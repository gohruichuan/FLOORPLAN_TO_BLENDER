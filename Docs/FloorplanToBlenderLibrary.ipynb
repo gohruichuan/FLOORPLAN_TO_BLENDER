{
 "cells": [
  {
   "cell_type": "markdown",
   "metadata": {},
   "source": [
    "# Welcome to this Tutorial!\n",
    "\n",
    "In this tutorial I will explain how the `FloorplantoBlenderlib` project actually works.\n",
    "I will illustrate how functions are called and show changes as visually as possible.\n",
    "If you have any questions about functionallities, please create an issue on the repo and I will make sure to answer!\n",
    "\n",
    "Please enjoy and have fun!\n",
    "\n",
    "**@Grebtsew**\n",
    "\n",
    "# Requirements\n",
    "If you have come this far, you either run on docker or locally. However some python libraries are needed for these scripts to run. Make sure all python packages from the main `/requirements.txt` file is installed!"
   ]
  },
  {
   "cell_type": "markdown",
   "metadata": {},
   "source": [
    "# Import FloorplantoBlenderlib\n",
    "First of we need to be able to import the FloorplantoBlenderlib (**Ftbl**)"
   ]
  },
  {
   "cell_type": "code",
   "execution_count": 6,
   "metadata": {
    "scrolled": true
   },
   "outputs": [],
   "source": [
    "# Add outer folder \n",
    "import sys\n",
    "sys.path.append(\"..\") # Adds higher directory to python modules path.\n",
    "\n",
    "# Import library\n",
    "from FloorplanToBlenderLib import *\n",
    "\n",
    "# Other necessary libraries\n",
    "import numpy as np"
   ]
  },
  {
   "cell_type": "markdown",
   "metadata": {},
   "source": [
    "## Input Image\n",
    "Now we need an example image to work with."
   ]
  },
  {
   "cell_type": "markdown",
   "metadata": {},
   "source": [
    "Input image: ![input](../Images/example.png)"
   ]
  },
  {
   "cell_type": "markdown",
   "metadata": {},
   "source": [
    "# Detect Contours\n",
    "So, we do now have an input image and can start coding scripts using **Ftbl**. \n",
    "Firstly we want to get the outer contours of the floorplan, in order to create a floor or roof of our 3d object."
   ]
  },
  {
   "cell_type": "code",
   "execution_count": 12,
   "metadata": {
    "scrolled": true
   },
   "outputs": [
    {
     "data": {
      "image/png": "[encoded data removed]",
      "text/plain": [
       "<PIL.Image.Image image mode=RGB size=1261x611 at 0x7FCCC7178470>"
      ]
     },
     "metadata": {},
     "output_type": "display_data"
    }
   ],
   "source": [
    "# Add outer folder \n",
    "import sys\n",
    "sys.path.append(\"..\") # Adds higher directory to python modules path.\n",
    "\n",
    "# Import library\n",
    "from FloorplanToBlenderLib import *\n",
    "\n",
    "import cv2 # for image gathering\n",
    "import numpy as np\n",
    "\n",
    "# for visualize\n",
    "from PIL import Image\n",
    "from IPython.display import display\n",
    "\n",
    "img_path = \"../Images/example.png\"\n",
    "\n",
    "# Read floorplan image\n",
    "img = cv2.imread(img_path)\n",
    "\n",
    "# Create blank image\n",
    "height, width, channels = img.shape\n",
    "blank_image = np.zeros((height,width,3), np.uint8)\n",
    "\n",
    "# Grayscale image\n",
    "gray = cv2.cvtColor(img,cv2.COLOR_BGR2GRAY)\n",
    "\n",
    "# detect outer Contours (simple floor or roof solution), paint them red on blank_image\n",
    "contour, img = detect.detectOuterContours(gray, blank_image, color=(255,0,0))\n",
    "\n",
    "# Display\n",
    "display(Image.fromarray(blank_image))"
   ]
  },
  {
   "cell_type": "markdown",
   "metadata": {},
   "source": [
    "# Auto Rescale Image\n",
    "Okey, so we have now started scripting and already detected a fancy floor/roof of the floorplan.\n",
    "Now we will look closer at a problem I had for a long time, where Images that were too big or too small couldn't really be used. To solve this, we want to scale the images up or down. To know how much an image should be scaled we calculate the average corner-distance of objects we suspect to be walls. Then scale image to match the prefered wall-size for optimal detections.\n",
    "\n",
    "After a rescale the floor/roof has to be recalculated with the new image. The outer contour detection will then serve as threshold of upcoming detections."
   ]
  },
  {
   "cell_type": "code",
   "execution_count": null,
   "metadata": {},
   "outputs": [],
   "source": [
    "# Under construction... ..."
   ]
  },
  {
   "cell_type": "raw",
   "metadata": {},
   "source": [
    "Result image:"
   ]
  },
  {
   "cell_type": "markdown",
   "metadata": {},
   "source": [
    "# Detect Walls"
   ]
  },
  {
   "cell_type": "code",
   "execution_count": null,
   "metadata": {},
   "outputs": [],
   "source": [
    "# Under construction..."
   ]
  },
  {
   "cell_type": "raw",
   "metadata": {},
   "source": [
    "Result image:"
   ]
  },
  {
   "cell_type": "markdown",
   "metadata": {},
   "source": [
    "# Detect Details"
   ]
  },
  {
   "cell_type": "code",
   "execution_count": null,
   "metadata": {},
   "outputs": [],
   "source": [
    "# Under construction..."
   ]
  },
  {
   "cell_type": "raw",
   "metadata": {},
   "source": [
    "Result image:"
   ]
  },
  {
   "cell_type": "markdown",
   "metadata": {},
   "source": [
    "# Detect Doors"
   ]
  },
  {
   "cell_type": "code",
   "execution_count": null,
   "metadata": {},
   "outputs": [],
   "source": [
    "# Under construction..."
   ]
  },
  {
   "cell_type": "raw",
   "metadata": {},
   "source": [
    "Result image:"
   ]
  },
  {
   "cell_type": "markdown",
   "metadata": {},
   "source": [
    "# Generate data files"
   ]
  },
  {
   "cell_type": "code",
   "execution_count": null,
   "metadata": {},
   "outputs": [],
   "source": [
    "# Under construction..."
   ]
  },
  {
   "cell_type": "markdown",
   "metadata": {},
   "source": [
    "# Generate Blender file"
   ]
  },
  {
   "cell_type": "code",
   "execution_count": null,
   "metadata": {},
   "outputs": [],
   "source": [
    "# Under construction..."
   ]
  },
  {
   "cell_type": "raw",
   "metadata": {},
   "source": [
    "Blender result:"
   ]
  },
  {
   "cell_type": "markdown",
   "metadata": {},
   "source": [
    "# Generate multi level floorplan"
   ]
  },
  {
   "cell_type": "code",
   "execution_count": null,
   "metadata": {},
   "outputs": [],
   "source": [
    "# Under construction..."
   ]
  },
  {
   "cell_type": "raw",
   "metadata": {},
   "source": [
    "Blender result:"
   ]
  },
  {
   "cell_type": "markdown",
   "metadata": {},
   "source": [
    "# Reformat blender project"
   ]
  },
  {
   "cell_type": "code",
   "execution_count": null,
   "metadata": {},
   "outputs": [],
   "source": [
    "# Under construction..."
   ]
  },
  {
   "cell_type": "markdown",
   "metadata": {},
   "source": [
    "# AR"
   ]
  },
  {
   "cell_type": "code",
   "execution_count": null,
   "metadata": {},
   "outputs": [],
   "source": [
    "# Under construction..."
   ]
  },
  {
   "cell_type": "raw",
   "metadata": {},
   "source": [
    "Result:"
   ]
  },
  {
   "cell_type": "markdown",
   "metadata": {},
   "source": [
    "# Unity"
   ]
  },
  {
   "cell_type": "code",
   "execution_count": null,
   "metadata": {},
   "outputs": [],
   "source": []
  },
  {
   "cell_type": "raw",
   "metadata": {},
   "source": [
    "Result:"
   ]
  }
 ],
 "metadata": {
  "kernelspec": {
   "display_name": "Python 3",
   "language": "python",
   "name": "python3"
  },
  "language_info": {
   "codemirror_mode": {
    "name": "ipython",
    "version": 3
   },
   "file_extension": ".py",
   "mimetype": "text/x-python",
   "name": "python",
   "nbconvert_exporter": "python",
   "pygments_lexer": "ipython3",
   "version": "3.6.9"
  }
 },
 "nbformat": 4,
 "nbformat_minor": 4
}
